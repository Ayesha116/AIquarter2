{
 "cells": [
  {
   "cell_type": "code",
   "execution_count": 1,
   "metadata": {},
   "outputs": [
    {
     "name": "stdout",
     "output_type": "stream",
     "text": [
      "let begin with numpy\n"
     ]
    }
   ],
   "source": [
    "print('let begin with numpy')\n",
    "# numpy is python library\n",
    "# fast\n",
    "#convinent/simple\n",
    "#multi dimentional array support\n",
    "#less memory consumption\n",
    "\n"
   ]
  },
  {
   "cell_type": "code",
   "execution_count": 32,
   "metadata": {
    "scrolled": true
   },
   "outputs": [
    {
     "name": "stdout",
     "output_type": "stream",
     "text": [
      "6\n",
      "[0 1 2 3 4 5 6 7 8 9]\n",
      "[0. 1. 2. 3. 4. 5. 6. 7. 8. 9.]\n",
      "1.0004043579101562\n",
      "44.025421142578125\n",
      "900112\n",
      "400096\n"
     ]
    }
   ],
   "source": [
    "import numpy as np\n",
    "import time\n",
    "import sys \n",
    "\n",
    "numpy_array = np.array([(1,2,3,4),(3,4,5,6)])\n",
    "print(numpy_array[1][3])\n",
    "\n",
    "numpy_array1 = np.arange(10)\n",
    "print(numpy_array1)\n",
    "\n",
    "print(numpy_array1.astype('float'))\n",
    "\n",
    "\n",
    "\n",
    "size = 100000\n",
    "\n",
    "l1 = list(range(size))\n",
    "l2 = list(range(size))\n",
    "\n",
    "n1 = np.arange(size)\n",
    "n2 = np.arange(size)\n",
    "\n",
    "start = time.time()\n",
    "res = n1 * n2\n",
    "print((time.time()-start)*1000)\n",
    "\n",
    "start = time.time()\n",
    "result = []\n",
    "for i in range(0,len(l1)):\n",
    "    result.append(l1[i] + l2[i])\n",
    "    \n",
    "print((time.time()-start)*1000)\n",
    "\n",
    "l5 = list(range(size))\n",
    "n5 = np.arange(size)\n",
    "\n",
    "print(sys.getsizeof(l5))\n",
    "print(sys.getsizeof(n5))"
   ]
  },
  {
   "cell_type": "code",
   "execution_count": 39,
   "metadata": {},
   "outputs": [
    {
     "name": "stdout",
     "output_type": "stream",
     "text": [
      "[0 1 2 3 4 5 6 7 8 9]\n",
      "5\n",
      "[5 6 7]\n",
      "[ 0  1  2  3  4 12 12 12  8  9]\n",
      "[12 12 12]\n",
      "[ 12 123  12]\n",
      "[  0   1   2   3   4  12 123  12   8   9]\n"
     ]
    }
   ],
   "source": [
    "arr = np.arange(10)\n",
    "print(arr)\n",
    "print(arr[5])\n",
    "print(arr[5:8])\n",
    "arr[5:8] = 12\n",
    "print(arr)\n",
    "arr_slice = arr[5:8]\n",
    "print(arr_slice)\n",
    "arr_slice[1] = 123\n",
    "print(arr_slice)\n",
    "print(arr)"
   ]
  },
  {
   "cell_type": "code",
   "execution_count": null,
   "metadata": {},
   "outputs": [],
   "source": [
    "arr[5]\n",
    "arr[5:8]\n",
    "arr[5:8] = 12\n",
    "arr\n",
    "arr_slice = arr[5:8]\n",
    "arr_slice"
   ]
  }
 ],
 "metadata": {
  "kernelspec": {
   "display_name": "Python 3",
   "language": "python",
   "name": "python3"
  },
  "language_info": {
   "codemirror_mode": {
    "name": "ipython",
    "version": 3
   },
   "file_extension": ".py",
   "mimetype": "text/x-python",
   "name": "python",
   "nbconvert_exporter": "python",
   "pygments_lexer": "ipython3",
   "version": "3.7.3"
  }
 },
 "nbformat": 4,
 "nbformat_minor": 2
}
