{
 "cells": [
  {
   "cell_type": "code",
   "execution_count": 1,
   "metadata": {},
   "outputs": [],
   "source": [
    "from bs4 import BeautifulSoup as bs\n",
    "from urllib.request import urlopen as ureq"
   ]
  },
  {
   "cell_type": "code",
   "execution_count": 2,
   "metadata": {},
   "outputs": [],
   "source": [
    "my_url = \"https://www.flipkart.com/search?q=iphone&otracker=search&otracker1=search&marketplace=FLIPKART&as-show=on&as=off\""
   ]
  },
  {
   "cell_type": "code",
   "execution_count": 3,
   "metadata": {},
   "outputs": [],
   "source": [
    "uclient = ureq(my_url)\n",
    "page_html = uclient.read()\n",
    "uclient.close()"
   ]
  },
  {
   "cell_type": "code",
   "execution_count": 4,
   "metadata": {},
   "outputs": [],
   "source": [
    "page_soup = bs(page_html, \"html.parser\")"
   ]
  },
  {
   "cell_type": "code",
   "execution_count": 5,
   "metadata": {},
   "outputs": [],
   "source": [
    "container = page_soup.findAll(\"div\",{\"class\":\"_1UoZlX\"})"
   ]
  },
  {
   "cell_type": "code",
   "execution_count": 6,
   "metadata": {},
   "outputs": [
    {
     "name": "stdout",
     "output_type": "stream",
     "text": [
      "24\n"
     ]
    }
   ],
   "source": [
    "print(len(container))"
   ]
  },
  {
   "cell_type": "code",
   "execution_count": 7,
   "metadata": {},
   "outputs": [
    {
     "name": "stdout",
     "output_type": "stream",
     "text": [
      "<div class=\"_1UoZlX\">\n",
      " <a class=\"_31qSD5\" href=\"/apple-iphone-7-black-32-gb/p/itmen6daftcqwzeg?pid=MOBEMK62PN2HU7EE&amp;srno=s_1_1&amp;otracker=search&amp;otracker1=search&amp;lid=LSTMOBEMK62PN2HU7EEINTGNU&amp;fm=organic&amp;iid=1868d073-153b-436b-a512-404c757372f7.MOBEMK62PN2HU7EE.SEARCH&amp;ssid=mydqjga4o00000001574494738031&amp;qH=0b3f45b266a97d70\" rel=\"noopener noreferrer\" target=\"_blank\">\n",
      "  <div class=\"_3SQWE6\">\n",
      "   <div class=\"_1OCn9C\">\n",
      "    <div>\n",
      "     <div class=\"_3BTv9X\" style=\"height:200px;width:200px\">\n",
      "      <img alt=\"Apple iPhone 7 (Black, 32 GB)\" class=\"_1Nyybr\" src=\"//img1a.flixcart.com/www/linchpin/fk-cp-zion/img/placeholder_9951d0.svg\"/>\n",
      "     </div>\n",
      "    </div>\n",
      "   </div>\n",
      "   <div class=\"_2lesQu\">\n",
      "    <div class=\"_1O_CiZ\">\n",
      "     <span class=\"_1iHA1p\">\n",
      "      <div class=\"_2kFyHg\">\n",
      "       <label>\n",
      "        <input class=\"_3uUUD5\" readonly=\"\" type=\"checkbox\"/>\n",
      "        <div class=\"_1p7h2j\">\n",
      "        </div>\n",
      "       </label>\n",
      "      </div>\n",
      "     </span>\n",
      "     <label class=\"_10TB-Q\">\n",
      "      <span>\n",
      "       Add to Compare\n",
      "      </span>\n",
      "     </label>\n",
      "    </div>\n",
      "   </div>\n",
      "   <div class=\"_3gDSOa _32A6AP\">\n",
      "    <div class=\"DsQ2eg\">\n",
      "     <svg class=\"_2oLiqr\" height=\"16\" viewbox=\"0 0 20 16\" width=\"16\" xmlns=\"http://www.w3.org/2000/svg\">\n",
      "      <path class=\"_35Y7Yo\" d=\"M8.695 16.682C4.06 12.382 1 9.536 1 6.065 1 3.219 3.178 1 5.95 1c1.566 0 3.069.746 4.05 1.915C10.981 1.745 12.484 1 14.05 1 16.822 1 19 3.22 19 6.065c0 3.471-3.06 6.316-7.695 10.617L10 17.897l-1.305-1.215z\" fill=\"#2874F0\" fill-rule=\"evenodd\" opacity=\".9\" stroke=\"#FFF\">\n",
      "      </path>\n",
      "     </svg>\n",
      "    </div>\n",
      "   </div>\n",
      "  </div>\n",
      "  <div class=\"_1-2Iqu row\">\n",
      "   <div class=\"col col-7-12\">\n",
      "    <div class=\"_3wU53n\">\n",
      "     Apple iPhone 7 (Black, 32 GB)\n",
      "    </div>\n",
      "    <div class=\"niH0FQ\">\n",
      "     <span class=\"_2_KrJI\" id=\"productRating_LSTMOBEMK62PN2HU7EEINTGNU_MOBEMK62PN2HU7EE_\">\n",
      "      <div class=\"hGSR34\">\n",
      "       4.5\n",
      "       <img class=\"_2lQ_WZ\" src=\"data:image/svg+xml;base64,PHN2ZyB4bWxucz0iaHR0cDovL3d3dy53My5vcmcvMjAwMC9zdmciIHdpZHRoPSIxMyIgaGVpZ2h0PSIxMiI+PHBhdGggZmlsbD0iI0ZGRiIgZD0iTTYuNSA5LjQzOWwtMy42NzQgMi4yMy45NC00LjI2LTMuMjEtMi44ODMgNC4yNTQtLjQwNEw2LjUuMTEybDEuNjkgNC4wMSA0LjI1NC40MDQtMy4yMSAyLjg4Mi45NCA0LjI2eiIvPjwvc3ZnPg==\"/>\n",
      "      </div>\n",
      "     </span>\n",
      "     <span class=\"_38sUEc\">\n",
      "      <span>\n",
      "       <span>\n",
      "        70,349 Ratings\n",
      "       </span>\n",
      "       <span class=\"_1VpSqZ\">\n",
      "        &amp;\n",
      "       </span>\n",
      "       <span>\n",
      "        7,603 Reviews\n",
      "       </span>\n",
      "      </span>\n",
      "     </span>\n",
      "    </div>\n",
      "    <div class=\"_3ULzGw\">\n",
      "     <ul class=\"vFw0gD\">\n",
      "      <li class=\"tVe95H\">\n",
      "       32 GB ROM |\n",
      "      </li>\n",
      "      <li class=\"tVe95H\">\n",
      "       11.94 cm (4.7 inch) Retina HD Display\n",
      "      </li>\n",
      "      <li class=\"tVe95H\">\n",
      "       12MP Rear Camera | 7MP Front Camera\n",
      "      </li>\n",
      "      <li class=\"tVe95H\">\n",
      "       Apple A10 Fusion 64-bit processor and Embedded M10 Motion Co-processor\n",
      "      </li>\n",
      "      <li class=\"tVe95H\">\n",
      "       iOS 13 Compatible\n",
      "      </li>\n",
      "      <li class=\"tVe95H\">\n",
      "       Brand Warranty of 1 Year\n",
      "      </li>\n",
      "     </ul>\n",
      "    </div>\n",
      "   </div>\n",
      "   <div class=\"col col-5-12 _2o7WAb\">\n",
      "    <div class=\"_6BWGkk\">\n",
      "     <div class=\"_1uv9Cb\">\n",
      "      <div class=\"_1vC4OE _2rQ-NK\">\n",
      "       ₹27,999\n",
      "      </div>\n",
      "      <div class=\"_3auQ3N _2GcJzG\">\n",
      "       ₹\n",
      "       <!-- -->\n",
      "       29,900\n",
      "      </div>\n",
      "      <div class=\"VGWI6T\">\n",
      "       <span>\n",
      "        6% off\n",
      "       </span>\n",
      "      </div>\n",
      "     </div>\n",
      "    </div>\n",
      "    <div class=\"_3n6o0t\">\n",
      "     <img height=\"21\" src=\"//img1a.flixcart.com/www/linchpin/fk-cp-zion/img/fa_8b4b59.png\"/>\n",
      "    </div>\n",
      "    <div class=\"_2nE8_R\">\n",
      "     <div class=\"_3_G5Wj\" style=\"color:#000000;font-size:14px;font-family:inherit;font-weight:normal\">\n",
      "      No Cost EMI\n",
      "     </div>\n",
      "    </div>\n",
      "    <div class=\"_2nE8_R\">\n",
      "     <div class=\"_3_G5Wj\" style=\"color:#000000;font-size:14px;font-family:inherit;font-weight:normal\">\n",
      "      Upto\n",
      "     </div>\n",
      "     <div class=\"_3_G5Wj\" style=\"color:#000000;font-size:14px;font-family:inherit;font-weight:bold\">\n",
      "      ₹10,800\n",
      "     </div>\n",
      "     <div class=\"_3_G5Wj\" style=\"color:#000000;font-size:14px;font-family:inherit;font-weight:normal\">\n",
      "      Off on Exchange\n",
      "     </div>\n",
      "    </div>\n",
      "   </div>\n",
      "  </div>\n",
      " </a>\n",
      "</div>\n"
     ]
    }
   ],
   "source": [
    "print(bs.prettify(container[0]))"
   ]
  },
  {
   "cell_type": "code",
   "execution_count": 8,
   "metadata": {},
   "outputs": [
    {
     "name": "stdout",
     "output_type": "stream",
     "text": [
      "Apple iPhone 7 (Black, 32 GB)\n"
     ]
    }
   ],
   "source": [
    "contain = container[0]\n",
    "print(contain.div.img[\"alt\"])"
   ]
  },
  {
   "cell_type": "code",
   "execution_count": 9,
   "metadata": {},
   "outputs": [],
   "source": [
    "price = contain.findAll(\"div\", {\"class\" : \"_1vC4OE _2rQ-NK\"})"
   ]
  },
  {
   "cell_type": "code",
   "execution_count": null,
   "metadata": {},
   "outputs": [],
   "source": [
    "rating = contain.findAll(\"div\",{\"classs\":\"niH0FQ\"})"
   ]
  },
  {
   "cell_type": "code",
   "execution_count": 10,
   "metadata": {},
   "outputs": [
    {
     "name": "stdout",
     "output_type": "stream",
     "text": [
      "₹27,999\n"
     ]
    }
   ],
   "source": [
    "print(price[0].text)"
   ]
  },
  {
   "cell_type": "code",
   "execution_count": 13,
   "metadata": {},
   "outputs": [],
   "source": [
    "filename = \"product.csv\"\n",
    "f = open(filename,\"w\")"
   ]
  },
  {
   "cell_type": "code",
   "execution_count": 15,
   "metadata": {},
   "outputs": [
    {
     "data": {
      "text/plain": [
       "26"
      ]
     },
     "execution_count": 15,
     "metadata": {},
     "output_type": "execute_result"
    }
   ],
   "source": [
    "headers = \"product_name,Price,Rating\\n\"\n",
    "f.write(headers)"
   ]
  },
  {
   "cell_type": "code",
   "execution_count": 18,
   "metadata": {},
   "outputs": [
    {
     "ename": "SyntaxError",
     "evalue": "EOL while scanning string literal (<ipython-input-18-796f7fc04d78>, line 4)",
     "output_type": "error",
     "traceback": [
      "\u001b[1;36m  File \u001b[1;32m\"<ipython-input-18-796f7fc04d78>\"\u001b[1;36m, line \u001b[1;32m4\u001b[0m\n\u001b[1;33m    Rating = contain.findAll(\"div\",{\"class\": \"tVe95H\"}\")\u001b[0m\n\u001b[1;37m                                                        ^\u001b[0m\n\u001b[1;31mSyntaxError\u001b[0m\u001b[1;31m:\u001b[0m EOL while scanning string literal\n"
     ]
    }
   ],
   "source": [
    "for contain in container:\n",
    "    product_name = contain.div.img[\"alt\"]\n",
    "    Price = contain.findAll(\"div\", {\"class\" : \"_1vC4OE _2rQ-NK\"})\n",
    "    Rating = contain.findAll(\"div\",{\"class\": \"tVe95H\"}\")"
   ]
  },
  {
   "cell_type": "code",
   "execution_count": null,
   "metadata": {},
   "outputs": [],
   "source": []
  },
  {
   "cell_type": "code",
   "execution_count": null,
   "metadata": {},
   "outputs": [],
   "source": []
  }
 ],
 "metadata": {
  "kernelspec": {
   "display_name": "Python 3",
   "language": "python",
   "name": "python3"
  },
  "language_info": {
   "codemirror_mode": {
    "name": "ipython",
    "version": 3
   },
   "file_extension": ".py",
   "mimetype": "text/x-python",
   "name": "python",
   "nbconvert_exporter": "python",
   "pygments_lexer": "ipython3",
   "version": "3.7.3"
  }
 },
 "nbformat": 4,
 "nbformat_minor": 2
}
